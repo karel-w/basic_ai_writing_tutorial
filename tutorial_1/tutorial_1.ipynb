{
 "cells": [
  {
   "cell_type": "markdown",
   "metadata": {},
   "source": [
    "# Using Pre-trained Models for Protein Data Analysis\n",
    "## Morning Session: Understanding and Using Pre-trained Models\n",
    "\n",
    "### 1. Introduction\n",
    "Pre-trained models have become a cornerstone in modern protein analysis. They offer several key advantages:\n",
    "\n",
    "- **Why use pre-trained models?**\n",
    "  * Save computational resources (training from scratch can take weeks/months)\n",
    "  * Leverage existing knowledge (models trained on millions of protein sequences)\n",
    "  * Faster development time (focus on fine-tuning rather than architecture design)\n",
    "  * Better performance on small datasets (transfer learning benefits)\n",
    "\n",
    "- **Common pre-trained protein models:**\n",
    "  * ESM (Evolutionary Scale Modeling) - Meta's protein language model\n",
    "  * ProtBERT - BERT architecture adapted for proteins\n",
    "  * ProtT5 - T5 architecture for protein sequences\n",
    "  * UniRep - Universal protein representations\n",
    "  * SaProt - Structure-aware protein language model\n",
    "\n",
    "### Key Concepts:\n",
    "- **Embeddings**: Numerical representations of protein sequences\n",
    "- **Fine-tuning**: Adapting pre-trained models for specific tasks\n",
    "- **Transfer Learning**: Using knowledge from one task to improve another"
   ]
  },
  {
   "cell_type": "markdown",
   "metadata": {},
   "source": [
    "### Pre-Exercise: Select Computing Device\n",
    "We first need to determine whether to use GPU (CUDA) or CPU for our computations.\n",
    "Note: For this tutorial, we'll use CPU to ensure compatibility across all systems."
   ]
  },
  {
   "cell_type": "code",
   "execution_count": null,
   "metadata": {},
   "outputs": [],
   "source": [
    "device = torch.device(\"cuda\" if torch.cuda.is_available() else \"cpu\")\n",
    "device = torch.device(\"cpu\")"
   ]
  },
  {
   "cell_type": "markdown",
   "metadata": {},
   "source": [
    "### Exercise 1: Loading Pre-trained Models\n",
    "In this exercise, we'll load the ESM-2 model, which is state-of-the-art for protein sequence analysis.\n",
    " \n",
    "**Important Notes:**\n",
    "- ESM2_t6_8M_UR50D is a smaller version suitable for laptops\n",
    "- The full ESM2_t33_650M_UR50D model offers better performance but requires more resources\n",
    "- The model is loaded from Hugging Face's model hub\n",
    "- Hint: https://huggingface.co/docs/transformers/en/model_doc/esm"
   ]
  },
  {
   "cell_type": "code",
   "execution_count": null,
   "metadata": {},
   "outputs": [],
   "source": [
    "from transformers import _____, _____\n",
    "\n",
    "model_name = \"facebook/esm2_t6_8M_UR50D\" # It is recommended to use esm2_t33_650M_UR50D by t6_8M is smaller and handable on your laptop.\n",
    "\n",
    "# Complete the code to load the model and tokenizer\n",
    "model = _____.from_pretrained(model_name)\n",
    "tokenizer = _____.from_pretrained(model_name)"
   ]
  },
  {
   "cell_type": "markdown",
   "metadata": {
    "vscode": {
     "languageId": "plaintext"
    }
   },
   "source": [
    "### Exercise 2: Generate Embeddings\n",
    "Embeddings are dense vector representations of protein sequences. They capture:\n",
    "- Amino acid properties\n",
    "- Local structure information\n",
    "- Evolutionary relationships\n",
    "\n",
    "The embedding process involves:\n",
    "1. Tokenization (converting amino acids to tokens)\n",
    "2. Forward pass through the model\n",
    "3. Extraction of the embedding vectors\n"
   ]
  },
  {
   "cell_type": "code",
   "execution_count": null,
   "metadata": {},
   "outputs": [],
   "source": [
    "sequence = \"MLELLPTAVEGVSQAQITGRPEWIWLALGTALMGLGTLYFLVKGMGVSDPDAKKFYAITTLVPAIAFTMYLSMLLGYGLTMVPFGGEQNPIYWARYADWLFTTPLLLLDLALLVDADQGTILALVGADGIMIGTGLVGALTKVYSYRFVWWAISTAAMLYILYVLFFGFTSKAESMRPEVASTFKVLRNVTVVLWSAYPVVWLIGSEGAGIVPLNIETLLFMVLDVSAKVGFGLILLRSRAIFGEAEAPEPSAGDGAAATSD\"\n",
    "\n",
    "# Tokenize\n",
    "inputs = tokenizer(sequence, return_tensors='pt')\n",
    "\n",
    "# Get embeddings\n",
    "outputs = _____(**inputs)\n",
    "\n",
    "embeddings = outputs._____ # Select the appropriate output"
   ]
  },
  {
   "cell_type": "markdown",
   "metadata": {},
   "source": [
    "### Data Pipeline Architecture\n",
    "\n",
    "```mermaid\n",
    "graph LR\n",
    "    A[Raw Protein Data] --> B[ProteinDataset]\n",
    "    B --> C[DataLoader]\n",
    "    C --> D[ProteinClassifier]\n",
    "    D --> E[Training Loop]\n",
    "```\n",
    "\n",
    "**Detailed Pipeline Steps:**\n",
    "1. **Raw Protein Data**: Sequences in FASTA format or similar\n",
    "2. **ProteinDataset**: Custom PyTorch Dataset class for efficient data handling\n",
    "3. **DataLoader**: Batches data and enables parallel processing\n",
    "4. **ProteinClassifier**: Model architecture combining pre-trained model and task-specific layers\n",
    "5. **Training Loop**: Iterative process of model optimization"
   ]
  },
  {
   "cell_type": "markdown",
   "metadata": {
    "vscode": {
     "languageId": "plaintext"
    }
   },
   "source": [
    "### Exercise 3: Prepare a Simple Fine-tuning Dataset\n",
    " \n",
    "The `ProteinDataset` class is crucial for efficient data handling in PyTorch. It serves several important purposes:\n",
    " \n",
    "1. **Data Organization**: \n",
    "   - Keeps sequences and labels paired\n",
    "   - Handles data preprocessing consistently\n",
    "\n",
    "2. **Memory Efficiency**:\n",
    "   - Loads data on-demand rather than all at once\n",
    "   - Essential when working with large protein datasets\n",
    " \n",
    "3. **Tokenization**:\n",
    "   - Converts amino acid sequences into model-readable format\n",
    "   - Applies consistent preprocessing across all sequences\n"
   ]
  },
  {
   "cell_type": "code",
   "execution_count": null,
   "metadata": {},
   "outputs": [],
   "source": [
    "class ProteinDataset(Dataset):\n",
    "    def __init__(self, sequences, labels):\n",
    "        self.sequences = sequences\n",
    "        self.labels = labels\n",
    "        \n",
    "    def __len__(self):\n",
    "        return _____\n",
    "        \n",
    "    def __getitem__(self, idx):\n",
    "        sequence = self.sequences[idx]\n",
    "        label = self.labels[idx]\n",
    "        \n",
    "        # Tokenize sequence\n",
    "        inputs = _____\n",
    "        \n",
    "        return {\n",
    "            'input_ids': inputs['input_ids'].squeeze(),\n",
    "            'attention_mask': inputs['attention_mask'].squeeze(),\n",
    "            'labels': torch.tensor(label)\n",
    "        }"
   ]
  },
  {
   "cell_type": "markdown",
   "metadata": {},
   "source": [
    "### DataLoader Usage Example\n",
    "The DataLoader is a crucial component that:\n",
    "- Handles batch creation\n",
    "- Shuffles data for better training\n",
    "- Enables parallel data loading\n",
    "- Manages memory efficiently\n",
    "\n",
    "**Key Parameters:**\n",
    "- `batch_size`: Controls memory usage and training stability\n",
    "- `shuffle`: Randomizes data order for better training\n",
    "- `num_workers`: Enables parallel data loading\n",
    "\n",
    "Example of how ProteinDataset is used in the complete pipeline\n"
   ]
  },
  {
   "cell_type": "code",
   "execution_count": null,
   "metadata": {},
   "outputs": [],
   "source": [
    "sequences = [\"MLELL...\", \"KVFGR...\", ...]  # Your protein sequences\n",
    "labels = [0, 1, ...]  # Your corresponding labels\n",
    "\n",
    "dataset = ProteinDataset(sequences, labels)\n",
    "\n",
    "# Create DataLoader for batch processing\n",
    "train_loader = DataLoader(\n",
    "    dataset,\n",
    "    batch_size=32,\n",
    "    shuffle=True\n",
    ")\n",
    "\n",
    "# Now train_loader will yield batches like:\n",
    "# {\n",
    "#     'input_ids': tensor of shape [batch_size, seq_length],\n",
    "#     'attention_mask': tensor of shape [batch_size, seq_length],\n",
    "#     'labels': tensor of shape [batch_size]\n",
    "# }"
   ]
  },
  {
   "cell_type": "markdown",
   "metadata": {
    "vscode": {
     "languageId": "plaintext"
    }
   },
   "source": [
    "### Exercise 4: Create a Classification Head\n",
    " \n",
    "The `ProteinClassifier` architecture combines:\n",
    " \n",
    "1. **Pre-trained Model**:\n",
    "   - Provides protein sequence understanding\n",
    "   - Frozen weights to preserve learned features\n",
    " \n",
    "2. **Custom Classification Head**:\n",
    "   - Task-specific layers\n",
    "   - Trainable parameters for your specific problem\n",
    " \n",
    "**Architecture Decisions:**\n",
    "- Using mean pooling for sequence representation\n",
    "- Two-layer classification head with ReLU activation\n",
    "- Output dimension matches number of classes"
   ]
  },
  {
   "cell_type": "code",
   "execution_count": null,
   "metadata": {},
   "outputs": [],
   "source": [
    "class ProteinClassifier(nn.Module):\n",
    "    def __init__(self, pretrained_model, num_labels):\n",
    "        super().__init__()\n",
    "        self.pretrained_model = pretrained_model\n",
    "        self.classifier = nn.Sequential(\n",
    "            _____(pretrained_model.config.hidden_size, 256),\n",
    "            nn.ReLU(),\n",
    "            _____(256, num_labels)\n",
    "        )\n",
    "        \n",
    "    def forward(self, input_ids, attention_mask):\n",
    "        outputs = self.pretrained_model(input_ids=input_ids, attention_mask=attention_mask)\n",
    "        sequence_output = outputs[0]\n",
    "        pooled_output = torch.mean(sequence_output, dim=1)\n",
    "        return self.classifier(pooled_output)"
   ]
  },
  {
   "cell_type": "markdown",
   "metadata": {},
   "source": [
    "Example of how ProteinClassifier fits in the pipeline\n"
   ]
  },
  {
   "cell_type": "code",
   "execution_count": null,
   "metadata": {},
   "outputs": [],
   "source": [
    "# Initialize the model\n",
    "pretrained_model = EsmModel.from_pretrained(\"facebook/esm2_t6_8M_UR50D\")\n",
    "num_labels = 2  # binary classification example\n",
    "model = ProteinClassifier(pretrained_model, num_labels)\n",
    "\n",
    "# The model processes data like this:\n",
    "# 1. Takes tokenized sequences from ProteinDataset\n",
    "# 2. Passes them through pre-trained ESM model\n",
    "# 3. Applies classification head to get predictions"
   ]
  },
  {
   "cell_type": "markdown",
   "metadata": {
    "vscode": {
     "languageId": "plaintext"
    }
   },
   "source": [
    "### Exercise 5: Training Loop Implementation\n",
    "\n",
    "The training loop is where the actual learning happens. Key components include:\n",
    "\n",
    "1. **Optimization Process**:\n",
    "   - Forward pass: Generate predictions\n",
    "   - Loss calculation: Measure prediction error\n",
    "   - Backward pass: Calculate gradients\n",
    "   - Parameter updates: Improve model\n",
    "\n",
    "2. **Training Considerations**:\n",
    "   - Learning rate selection\n",
    "   - Batch size impact\n",
    "   - Gradient clipping (if needed)\n",
    "   - Model checkpointing\n"
   ]
  },
  {
   "cell_type": "code",
   "execution_count": null,
   "metadata": {},
   "outputs": [],
   "source": [
    "def train_model(model, train_loader, optimizer, num_epochs):\n",
    "    model.train()\n",
    "    for epoch in range(num_epochs):\n",
    "        for batch in train_loader:\n",
    "            optimizer.zero_grad()\n",
    "            \n",
    "            input_ids = batch['input_ids'].to(device)\n",
    "            attention_mask = batch['attention_mask'].to(device)\n",
    "            labels = batch['labels'].to(device)\n",
    "            \n",
    "            outputs = _____(input_ids, attention_mask)\n",
    "            loss = _____\n",
    "            \n",
    "            loss.backward()\n",
    "            optimizer.step()\n",
    "           \n",
    "            print(f\"Epoch {epoch}, Loss: {loss.item():.4f}\")"
   ]
  },
  {
   "cell_type": "markdown",
   "metadata": {},
   "source": [
    "Now we should be able to take a pre-trained model and start fine-tuning with our data"
   ]
  },
  {
   "cell_type": "code",
   "execution_count": null,
   "metadata": {},
   "outputs": [],
   "source": [
    "# Example usage with dummy data\n",
    "sequences = [\n",
    "    \"MLELLPTAVEGVSQAQITGRP\",\n",
    "    \"KVFGRCELAAAMKRHGLDNYR\"\n",
    "]\n",
    "labels = [0, 1]  # Binary classification example\n",
    "\n",
    "# Create dataset and dataloader\n",
    "dataset = ProteinDataset(sequences, labels)\n",
    "train_loader = DataLoader(dataset, batch_size=2, shuffle=True)\n",
    "\n",
    "# Initialize model\n",
    "pretrained_model = EsmModel.from_pretrained(\"facebook/esm2_t6_8M_UR50D\")\n",
    "model = ProteinClassifier(pretrained_model, num_labels=2)\n",
    "model = model.to(device)\n",
    "optimizer = torch.optim.Adam(model.parameters(), lr=1e-4)\n",
    "\n",
    "# Train\n",
    "train_model(model, train_loader, optimizer, num_epochs=2)\n",
    "torch.save(model.state_dict(), 'model_weights.pth')"
   ]
  },
  {
   "cell_type": "markdown",
   "metadata": {},
   "source": [
    "Lets take a break here, after the break we continue with making predictions."
   ]
  },
  {
   "cell_type": "markdown",
   "metadata": {},
   "source": [
    "### Exercise 6: Making Predictions\n",
    " \n",
    " Making predictions involves several important considerations:\n",
    " \n",
    " 1. **Single vs. Batch Predictions**:\n",
    "    - Single: Better for quick testing\n",
    "    - Batch: More efficient for large-scale predictions\n",
    " \n",
    " 2. **Model Evaluation Mode**:\n",
    "    - Disables dropout\n",
    "    - Uses running statistics for batch normalization\n",
    " \n",
    " 3. **Prediction Output**:\n",
    "    - Raw logits vs. probabilities\n",
    "    - Confidence scores\n",
    "    - Class predictions"
   ]
  },
  {
   "cell_type": "code",
   "execution_count": null,
   "metadata": {},
   "outputs": [],
   "source": [
    "def predict_sequence(model, tokenizer, sequence, device='cuda'):\n",
    "    \"\"\"\n",
    "    Make prediction for a single protein sequence\n",
    "    \"\"\"\n",
    "    # Set model to evaluation mode\n",
    "    model.eval()\n",
    "    \n",
    "    # Tokenize sequence\n",
    "    inputs = tokenizer(\n",
    "        sequence,\n",
    "        padding='max_length',\n",
    "        max_length=512,\n",
    "        truncation=True,\n",
    "        return_tensors='pt'\n",
    "    )\n",
    "    \n",
    "    # Move inputs to device\n",
    "    inputs = {k: v.to(device) for k, v in inputs.items()}\n",
    "    \n",
    "    # Make prediction\n",
    "    with torch.no_grad():\n",
    "        outputs = model(\n",
    "            input_ids=inputs['input_ids'],\n",
    "            attention_mask=inputs['attention_mask']\n",
    "        )\n",
    "        \n",
    "        # Get probabilities\n",
    "        probs = torch.softmax(outputs, dim=1)\n",
    "        \n",
    "        # Get predicted class\n",
    "        predicted_class = torch.argmax(probs, dim=1)\n",
    "    \n",
    "    return {\n",
    "        'predicted_class': predicted_class.item(),\n",
    "        'probabilities': probs.squeeze().cpu().numpy()\n",
    "    }"
   ]
  },
  {
   "cell_type": "code",
   "execution_count": null,
   "metadata": {},
   "outputs": [],
   "source": [
    "def predict_batch(model, tokenizer, sequences, batch_size=32, device='cuda'):\n",
    "    \"\"\"\n",
    "    Make predictions for a list of protein sequences\n",
    "    \"\"\"\n",
    "    # Create dataset\n",
    "    dataset = ProteinDataset(sequences, labels=[0]*len(sequences))  # dummy labels\n",
    "    dataloader = DataLoader(dataset, batch_size=batch_size)\n",
    "    \n",
    "    # Lists to store predictions\n",
    "    all_predictions = []\n",
    "    all_probabilities = []\n",
    "    \n",
    "    # Set model to evaluation mode\n",
    "    model.eval()\n",
    "    \n",
    "    with torch.no_grad():\n",
    "        for batch in dataloader:\n",
    "            # Move batch to device\n",
    "            input_ids = batch['input_ids'].to(device)\n",
    "            attention_mask = batch['attention_mask'].to(device)\n",
    "            \n",
    "            # Get predictions\n",
    "            outputs = model(input_ids, attention_mask)\n",
    "            probs = torch.softmax(outputs, dim=1)\n",
    "            predictions = torch.argmax(probs, dim=1)\n",
    "            \n",
    "            # Store results\n",
    "            all_predictions.extend(predictions.cpu().numpy())\n",
    "            all_probabilities.extend(probs.cpu().numpy())\n",
    "    \n",
    "    return {\n",
    "        'predictions': all_predictions,\n",
    "        'probabilities': all_probabilities\n",
    "    }"
   ]
  },
  {
   "cell_type": "markdown",
   "metadata": {},
   "source": [
    "### Model Loading and Inference\n",
    " \n",
    " When loading a trained model, consider:\n",
    " \n",
    " 1. **Model State**:\n",
    "    - Architecture must match training\n",
    "    - Weights must be compatible\n",
    " \n",
    " 2. **Device Placement**:\n",
    "    - CPU vs. GPU considerations\n",
    "    - Memory management\n",
    " \n",
    " 3. **Inference Settings**:\n",
    "    - Batch size optimization\n",
    "    - Memory vs. speed tradeoffs"
   ]
  },
  {
   "cell_type": "code",
   "execution_count": null,
   "metadata": {},
   "outputs": [],
   "source": [
    "import torch\n",
    "import numpy as np\n",
    "from torch.utils.data import DataLoader\n",
    "import pandas as pd\n",
    "\n",
    "# Load your saved model\n",
    "def load_model(model_path, device='cuda'):\n",
    "    \"\"\"\n",
    "    Load a saved model\n",
    "    \"\"\"\n",
    "    # Load the pretrained model first\n",
    "    pretrained_model = EsmModel.from_pretrained(\"facebook/esm2_t6_8M_UR50D\")\n",
    "    \n",
    "    # Initialize your classifier\n",
    "    model = ProteinClassifier(pretrained_model, num_labels=2)\n",
    "    \n",
    "    # Load the saved weights\n",
    "    model.load_state_dict(torch.load(model_path))\n",
    "    \n",
    "    # Move to device\n",
    "    model = model.to(device)\n",
    "    \n",
    "    return model"
   ]
  },
  {
   "cell_type": "markdown",
   "metadata": {},
   "source": [
    "Lets see if we can get some predictions"
   ]
  },
  {
   "cell_type": "code",
   "execution_count": null,
   "metadata": {},
   "outputs": [],
   "source": [
    "model_path = \"path/to/your/saved/model.pth\"\n",
    "model = load_model(model_path)\n",
    "tokenizer = EsmTokenizer.from_pretrained(\"facebook/esm2_t6_8M_UR50D\")\n",
    "\n",
    "# Example sequences\n",
    "test_sequences = [\n",
    "    \"MLELLPTAVEGVSQAQITGRP\",\n",
    "    \"KVFGRCELAAAMKRHGLDNYR\",\n",
    "    \"MAEGEITTFTALTEKFNLPPG\"\n",
    "]\n",
    "\n",
    "# 1. Single sequence prediction\n",
    "print(\"\\nSingle Sequence Prediction:\")\n",
    "result = predict_sequence(model, tokenizer, test_sequences[0])\n",
    "print(f\"Predicted class: {result['predicted_class']}\")\n",
    "print(f\"Class probabilities: {result['probabilities']}\")\n",
    "\n",
    "# 2. Batch prediction\n",
    "print(\"\\nBatch Prediction:\")\n",
    "results = predict_batch(model, tokenizer, test_sequences)\n",
    "\n",
    "# Create DataFrame for nice output\n",
    "df = pd.DataFrame({\n",
    "    'Sequence': test_sequences,\n",
    "    'Predicted_Class': results['predictions'],\n",
    "    'Probability_Class_0': [prob[0] for prob in results['probabilities']],\n",
    "    'Probability_Class_1': [prob[1] for prob in results['probabilities']]\n",
    "})\n",
    "\n",
    "print(df)"
   ]
  },
  {
   "cell_type": "markdown",
   "metadata": {},
   "source": [
    "### Take home Exercise 7: Advanced Prediction Features\n",
    " \n",
    "These advanced features enhance the practical utility of your model:\n",
    " \n",
    " 1. **Confidence Thresholding**:\n",
    "    - Reduces false predictions\n",
    "    - Handles uncertainty\n",
    "    - Important for production systems\n",
    " \n",
    " 2. **Result Persistence**:\n",
    "    - Structured data storage\n",
    "    - Analysis-ready format\n",
    "    - Reproducibility support"
   ]
  },
  {
   "cell_type": "markdown",
   "metadata": {},
   "source": [
    "Only make predictions if the confidence is above a certain threshold:"
   ]
  },
  {
   "cell_type": "code",
   "execution_count": null,
   "metadata": {},
   "outputs": [],
   "source": [
    "def predict_with_confidence(model, tokenizer, sequence, confidence_threshold=0.8):\n",
    "    \"\"\"\n",
    "    Make prediction only if confidence exceeds threshold\n",
    "    \"\"\"\n",
    "    result = predict_sequence(model, tokenizer, sequence)\n",
    "    max_prob = np.max(result['probabilities'])\n",
    "    \n",
    "    if max_prob >= confidence_threshold:\n",
    "        return {\n",
    "            'prediction': result['predicted_class'],\n",
    "            'confidence': max_prob,\n",
    "            'status': 'confident'\n",
    "        }\n",
    "    else:\n",
    "        return {\n",
    "            'prediction': None,\n",
    "            'confidence': max_prob,\n",
    "            'status': 'uncertain'\n",
    "        }"
   ]
  },
  {
   "cell_type": "markdown",
   "metadata": {},
   "source": [
    "Save your predictions to a CSV file for later:"
   ]
  },
  {
   "cell_type": "code",
   "execution_count": null,
   "metadata": {},
   "outputs": [],
   "source": [
    "def save_predictions(sequences, predictions, probabilities, output_file):\n",
    "    \"\"\"\n",
    "    Save predictions to CSV file\n",
    "    \"\"\"\n",
    "    results_df = pd.DataFrame({\n",
    "        'sequence': sequences,\n",
    "        'predicted_class': predictions,\n",
    "        'probability_class_0': [p[0] for p in probabilities],\n",
    "        'probability_class_1': [p[1] for p in probabilities]\n",
    "    })\n",
    "    \n",
    "    results_df.to_csv(output_file, index=False)\n",
    "    return results_df"
   ]
  },
  {
   "cell_type": "markdown",
   "metadata": {},
   "source": [
    "Creating a more complete pipeline for error handling:"
   ]
  },
  {
   "cell_type": "code",
   "execution_count": 2,
   "metadata": {},
   "outputs": [],
   "source": [
    "def prediction_pipeline(\n",
    "    model_path,\n",
    "    input_file,\n",
    "    output_file,\n",
    "    batch_size=32,\n",
    "    confidence_threshold=0.8\n",
    "):\n",
    "    \"\"\"\n",
    "    Complete prediction pipeline with error handling\n",
    "    \"\"\"\n",
    "    try:\n",
    "        # Load model\n",
    "        model = load_model(model_path)\n",
    "        tokenizer = EsmTokenizer.from_pretrained(\"facebook/esm2_t33_650M_UR50D\")\n",
    "        \n",
    "        # Read sequences\n",
    "        df = pd.read_csv(input_file)\n",
    "        sequences = df['sequence'].tolist()\n",
    "        \n",
    "        # Make predictions\n",
    "        results = predict_batch(model, tokenizer, sequences, batch_size)\n",
    "        \n",
    "        # Filter by confidence\n",
    "        confident_mask = [max(probs) >= confidence_threshold \n",
    "                         for probs in results['probabilities']]\n",
    "        \n",
    "        # Save results\n",
    "        results_df = save_predictions(\n",
    "            sequences,\n",
    "            results['predictions'],\n",
    "            results['probabilities'],\n",
    "            output_file\n",
    "        )\n",
    "        \n",
    "        print(f\"Processed {len(sequences)} sequences\")\n",
    "        print(f\"Confident predictions: {sum(confident_mask)}\")\n",
    "        \n",
    "        return results_df\n",
    "        \n",
    "    except Exception as e:\n",
    "        print(f\"Error in prediction pipeline: {str(e)}\")\n",
    "        return None"
   ]
  },
  {
   "cell_type": "markdown",
   "metadata": {},
   "source": [
    "Usage example"
   ]
  },
  {
   "cell_type": "code",
   "execution_count": null,
   "metadata": {},
   "outputs": [],
   "source": [
    "# Example usage of the complete pipeline\n",
    "input_file = \"protein_sequences.csv\"\n",
    "output_file = \"predictions.csv\"\n",
    "model_path = \"trained_model.pth\"\n",
    "\n",
    "results = prediction_pipeline(\n",
    "    model_path=model_path,\n",
    "    input_file=input_file,\n",
    "    output_file=output_file,\n",
    "    batch_size=32,\n",
    "    confidence_threshold=0.8\n",
    ")\n",
    "\n",
    "if results is not None:\n",
    "    print(\"\\nFirst few predictions:\")\n",
    "    print(results.head())"
   ]
  }
 ],
 "metadata": {
  "kernelspec": {
   "display_name": "AI_tutorial",
   "language": "python",
   "name": "ai_tutorial"
  },
  "language_info": {
   "codemirror_mode": {
    "name": "ipython",
    "version": 3
   },
   "file_extension": ".py",
   "mimetype": "text/x-python",
   "name": "python",
   "nbconvert_exporter": "python",
   "pygments_lexer": "ipython3",
   "version": "3.9.16"
  }
 },
 "nbformat": 4,
 "nbformat_minor": 2
}
